{
 "cells": [
  {
   "cell_type": "code",
   "execution_count": null,
   "id": "c00f4130-df49-4524-9f31-1e2d9e96ab43",
   "metadata": {},
   "outputs": [],
   "source": [
    "import os\n",
    "\n",
    "os.environ[\"CUDA_VISIBLE_DEVICES\"] = \"-1\"\n",
    "\n",
    "import json\n",
    "from pathlib import Path\n",
    "\n",
    "import matplotlib.pyplot as plt\n",
    "import pandas as pd\n",
    "import seaborn as sns\n",
    "import tensorflow as tf"
   ]
  },
  {
   "cell_type": "code",
   "execution_count": null,
   "id": "ebee465f-1d41-4076-b35e-f1054c86e336",
   "metadata": {},
   "outputs": [],
   "source": [
    "def get_exp_config(experiment: Path):\n",
    "    with open(experiment / \"config.json\", \"r\") as f:\n",
    "        config = json.load(f)\n",
    "    return config\n",
    "\n",
    "def get_exp_stats(experiment: Path):\n",
    "    return pd.read_csv(experiment / \"stats.csv\")\n",
    "\n",
    "\n",
    "def get_best_checkpoint(experiment: Path):\n",
    "    return tf.train.latest_checkpoint(experiment / \"best_checkpoints\")\n"
   ]
  },
  {
   "cell_type": "code",
   "execution_count": null,
   "id": "bf441fd7-3674-4f5c-bcc9-3a5f64e23e2f",
   "metadata": {},
   "outputs": [],
   "source": [
    "EXPDIR = Path(\"../experiments\")\n",
    "\n",
    "EXPERIMENTS_PATH = EXPDIR / \"simple_ppo_envs_comparison\"\n",
    "\n",
    "EXPERIMENTS = list(EXPERIMENTS_PATH.iterdir())"
   ]
  },
  {
   "cell_type": "code",
   "execution_count": null,
   "id": "3cc56556-aece-4536-826a-b1cb610ad8d1",
   "metadata": {},
   "outputs": [],
   "source": [
    "def expanded_stats(experiment: Path):\n",
    "    stats_df = get_exp_stats(experiment)\n",
    "    exp_data = get_exp_config(experiment)[\"experiment\"]\n",
    "    stats_df[\"env_id\"] = exp_data[\"env_id\"]\n",
    "    return stats_df"
   ]
  },
  {
   "cell_type": "code",
   "execution_count": null,
   "id": "c32ebe47-389d-43dd-9c09-bc13dc8fe4ad",
   "metadata": {},
   "outputs": [],
   "source": [
    "stats = pd.concat([expanded_stats(e) for e in EXPERIMENTS])"
   ]
  },
  {
   "cell_type": "code",
   "execution_count": null,
   "id": "7605aa01-607f-4d83-ab29-df2c7677cc79",
   "metadata": {},
   "outputs": [],
   "source": [
    "plt.figure(figsize=(14, 8))\n",
    "sns.lineplot(stats, x=\"env/total_steps\", y=\"env/final_reward\", hue=\"env_id\")\n",
    "plt.grid()"
   ]
  },
  {
   "cell_type": "code",
   "execution_count": null,
   "id": "b64c5c08-2df8-4e8c-8d9b-08cd0aea6a20",
   "metadata": {},
   "outputs": [],
   "source": [
    "q98 = stats.groupby(\"env_id\")[\"env/final_reward\"].quantile(0.98)"
   ]
  },
  {
   "cell_type": "code",
   "execution_count": null,
   "id": "83dd374a-f1db-429c-bb7f-c9bdadad50bf",
   "metadata": {},
   "outputs": [],
   "source": [
    "q98"
   ]
  },
  {
   "cell_type": "code",
   "execution_count": null,
   "id": "ae79aa99-79d8-412c-b4e0-6474c30c00bc",
   "metadata": {},
   "outputs": [],
   "source": [
    "sns.barplot(q98)\n",
    "plt.xticks(rotation=76)"
   ]
  },
  {
   "cell_type": "code",
   "execution_count": null,
   "id": "d2e508bc-e26e-4086-906d-fd452101e910",
   "metadata": {},
   "outputs": [],
   "source": [
    "SOLVED_ITER_REWARD_THRESHOLD = 0.95\n",
    "\n",
    "# This value is setup given the current analysed training runs... It's been\n",
    "#  visually determined with the training plots which environments\n",
    "#  have been solved, so in case of repeating the experiments this value\n",
    "#  may required to be changed, there is no guarantee of generality.\n",
    "SOLVED_Q98_COEF = 0.78\n",
    "\n",
    "def get_solved_stats(df):\n",
    "    q98 = df[\"env/final_reward\"].quantile(0.98)\n",
    "\n",
    "    if q98 < SOLVED_Q98_COEF:\n",
    "        return pd.Series(\n",
    "            {\"solved\": False, \"solved_iter\": -1, \"solved_steps\": -1, \"q98_final_reward\": q98, \"solved_reward\": float(\"nan\")}\n",
    "    )\n",
    "    solved_reward = SOLVED_ITER_REWARD_THRESHOLD * df[\"env/final_reward\"].max()\n",
    "    solved_flags = df[\"env/final_reward\"] > solved_reward\n",
    "    solved_iter = solved_flags.idxmax()\n",
    "    solved_steps = df.loc[solved_iter, \"env/total_steps\"]\n",
    "    return pd.Series(\n",
    "        {\"solved\": True, \"solved_iter\": solved_iter, \"solved_steps\": solved_steps, \"q98_final_reward\": q98, \"solved_reward\": solved_reward}\n",
    "    )\n"
   ]
  },
  {
   "cell_type": "code",
   "execution_count": null,
   "id": "b88e8406-f0e6-44ed-b926-d37decda2030",
   "metadata": {},
   "outputs": [],
   "source": [
    "solved_stats = stats.groupby(\"env_id\").apply(get_solved_stats, include_groups=False)"
   ]
  },
  {
   "cell_type": "code",
   "execution_count": null,
   "id": "e1da8d96-99b5-4fb0-af78-79da20520681",
   "metadata": {},
   "outputs": [],
   "source": [
    "solved_stats"
   ]
  },
  {
   "cell_type": "code",
   "execution_count": null,
   "id": "3ffd875e-1974-4e66-be82-e7d1b97e9c92",
   "metadata": {},
   "outputs": [],
   "source": [
    "solved_stats.to_clipboard()"
   ]
  },
  {
   "cell_type": "code",
   "execution_count": null,
   "id": "e2ce8c42-9ef6-495a-a2cc-60497eea5467",
   "metadata": {},
   "outputs": [],
   "source": [
    "solved_stats = solved_stats[solved_stats[\"solved\"]]"
   ]
  },
  {
   "cell_type": "code",
   "execution_count": null,
   "id": "53c63ec3-f7b5-4060-b440-04f218bea2e8",
   "metadata": {},
   "outputs": [],
   "source": [
    "solved_stats"
   ]
  },
  {
   "cell_type": "code",
   "execution_count": null,
   "id": "6f9fa481-4b53-458f-8303-613c38dba52a",
   "metadata": {},
   "outputs": [],
   "source": [
    "sns.barplot(solved_stats[\"solved_steps\"].sort_values())\n",
    "plt.grid()\n",
    "plt.xticks(rotation=76)"
   ]
  }
 ],
 "metadata": {
  "kernelspec": {
   "display_name": "Python 3 (ipykernel)",
   "language": "python",
   "name": "python3"
  },
  "language_info": {
   "codemirror_mode": {
    "name": "ipython",
    "version": 3
   },
   "file_extension": ".py",
   "mimetype": "text/x-python",
   "name": "python",
   "nbconvert_exporter": "python",
   "pygments_lexer": "ipython3",
   "version": "3.12.8"
  }
 },
 "nbformat": 4,
 "nbformat_minor": 5
}
